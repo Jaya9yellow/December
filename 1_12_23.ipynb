{
  "nbformat": 4,
  "nbformat_minor": 0,
  "metadata": {
    "colab": {
      "provenance": [],
      "authorship_tag": "ABX9TyM5wBXTb73MJ0r1KrwKV+vi",
      "include_colab_link": true
    },
    "kernelspec": {
      "name": "python3",
      "display_name": "Python 3"
    },
    "language_info": {
      "name": "python"
    }
  },
  "cells": [
    {
      "cell_type": "markdown",
      "metadata": {
        "id": "view-in-github",
        "colab_type": "text"
      },
      "source": [
        "<a href=\"https://colab.research.google.com/github/Jaya9yellow/December/blob/main/1_12_23.ipynb\" target=\"_parent\"><img src=\"https://colab.research.google.com/assets/colab-badge.svg\" alt=\"Open In Colab\"/></a>"
      ]
    },
    {
      "cell_type": "code",
      "source": [
        "import tensorflow as tf\n",
        "from tensorflow import keras\n",
        "from tensorflow.keras import layers\n",
        "import numpy as np\n",
        "import cv2"
      ],
      "metadata": {
        "id": "p3fDPdAV_rhN"
      },
      "execution_count": 1,
      "outputs": []
    },
    {
      "cell_type": "code",
      "source": [
        "[(x_train,y_train_label),(x_test,y_test_label)]=keras.datasets.mnist.load_data()\n",
        "#"
      ],
      "metadata": {
        "colab": {
          "base_uri": "https://localhost:8080/"
        },
        "id": "vQMvb_7F_ugf",
        "outputId": "2a2d7e1e-3488-4002-ab39-78086c7c12ce"
      },
      "execution_count": 2,
      "outputs": [
        {
          "output_type": "stream",
          "name": "stdout",
          "text": [
            "Downloading data from https://storage.googleapis.com/tensorflow/tf-keras-datasets/mnist.npz\n",
            "11490434/11490434 [==============================] - 1s 0us/step\n"
          ]
        }
      ]
    },
    {
      "cell_type": "code",
      "source": [
        "x_train=x_train.astype(float)/255.0\n",
        "x_test=x_test.astype(float)/255.0\n",
        "\n",
        "y_train_label_categorical=keras.utils.to_categorical(y_train_label)\n",
        "y_test_label_categorical=keras.utils.to_categorical(y_test_label)\n",
        "print(y_train_label_categorical[0])\n",
        "\n",
        "\n",
        "x_train=np.expand_dims(x_train,axis=-1)\n",
        "print(x_train.shape)\n"
      ],
      "metadata": {
        "colab": {
          "base_uri": "https://localhost:8080/"
        },
        "id": "eP83pi88L2af",
        "outputId": "70c11f8b-d1bd-4e7c-b8bf-db529d3c3bbf"
      },
      "execution_count": 9,
      "outputs": [
        {
          "output_type": "stream",
          "name": "stdout",
          "text": [
            "[0. 0. 0. 0. 0. 1. 0. 0. 0. 0.]\n",
            "(60000, 28, 28, 1, 1)\n"
          ]
        }
      ]
    },
    {
      "cell_type": "code",
      "source": [
        "print(x_train[1].shape)"
      ],
      "metadata": {
        "colab": {
          "base_uri": "https://localhost:8080/"
        },
        "id": "uqWIg_YTOMfP",
        "outputId": "6fc2452b-2f2f-49be-a538-5664f89bba74"
      },
      "execution_count": 20,
      "outputs": [
        {
          "output_type": "stream",
          "name": "stdout",
          "text": [
            "(28, 28, 1, 1)\n"
          ]
        }
      ]
    },
    {
      "cell_type": "code",
      "source": [
        "model=keras.Sequential()\n",
        "model.add(keras.Input(shape=(28,28,1)))\n",
        "model.add(layers.Flatten())\n",
        "model.add(layers.Dense(units=10,activation=\"relu\"))\n",
        "#model.add(layers.Dense(units=10,activation=\"relu\"))\n",
        "model.add(layers.Dense(units=10,activation=\"softmax\"))\n",
        "#"
      ],
      "metadata": {
        "id": "xzr4i7cBL7te"
      },
      "execution_count": 5,
      "outputs": []
    },
    {
      "cell_type": "code",
      "source": [
        "model.summary()"
      ],
      "metadata": {
        "colab": {
          "base_uri": "https://localhost:8080/",
          "height": 332
        },
        "id": "9wy2gdsHL9sm",
        "outputId": "af2fd61e-a942-4c6d-983b-abca10c3e485"
      },
      "execution_count": 8,
      "outputs": [
        {
          "output_type": "error",
          "ename": "ValueError",
          "evalue": "ignored",
          "traceback": [
            "\u001b[0;31m---------------------------------------------------------------------------\u001b[0m",
            "\u001b[0;31mValueError\u001b[0m                                Traceback (most recent call last)",
            "\u001b[0;32m<ipython-input-8-5f15418b3570>\u001b[0m in \u001b[0;36m<cell line: 1>\u001b[0;34m()\u001b[0m\n\u001b[0;32m----> 1\u001b[0;31m \u001b[0mmodel\u001b[0m\u001b[0;34m.\u001b[0m\u001b[0msummary\u001b[0m\u001b[0;34m(\u001b[0m\u001b[0;34m)\u001b[0m\u001b[0;34m\u001b[0m\u001b[0;34m\u001b[0m\u001b[0m\n\u001b[0m",
            "\u001b[0;32m/usr/local/lib/python3.10/dist-packages/keras/src/engine/training.py\u001b[0m in \u001b[0;36msummary\u001b[0;34m(self, line_length, positions, print_fn, expand_nested, show_trainable, layer_range)\u001b[0m\n\u001b[1;32m   3480\u001b[0m         \"\"\"\n\u001b[1;32m   3481\u001b[0m         \u001b[0;32mif\u001b[0m \u001b[0;32mnot\u001b[0m \u001b[0mself\u001b[0m\u001b[0;34m.\u001b[0m\u001b[0mbuilt\u001b[0m\u001b[0;34m:\u001b[0m\u001b[0;34m\u001b[0m\u001b[0;34m\u001b[0m\u001b[0m\n\u001b[0;32m-> 3482\u001b[0;31m             raise ValueError(\n\u001b[0m\u001b[1;32m   3483\u001b[0m                 \u001b[0;34m\"This model has not yet been built. \"\u001b[0m\u001b[0;34m\u001b[0m\u001b[0;34m\u001b[0m\u001b[0m\n\u001b[1;32m   3484\u001b[0m                 \u001b[0;34m\"Build the model first by calling `build()` or by calling \"\u001b[0m\u001b[0;34m\u001b[0m\u001b[0;34m\u001b[0m\u001b[0m\n",
            "\u001b[0;31mValueError\u001b[0m: This model has not yet been built. Build the model first by calling `build()` or by calling the model on a batch of data."
          ]
        }
      ]
    },
    {
      "cell_type": "code",
      "source": [
        "model.compile(optimizer=\"adam\",loss=\"categorical_crossentropy\",metrics=[\"accuracy\"])"
      ],
      "metadata": {
        "id": "aMEFQI5oMCCP"
      },
      "execution_count": 7,
      "outputs": []
    },
    {
      "cell_type": "code",
      "source": [
        "model.fit(x_train,y_train_label_categorical,batch_size=64,epochs=100)"
      ],
      "metadata": {
        "colab": {
          "base_uri": "https://localhost:8080/"
        },
        "id": "_Eq4OR2eMF72",
        "outputId": "d44d6c58-f160-4a58-d9be-2499b38e2a15"
      },
      "execution_count": 8,
      "outputs": [
        {
          "output_type": "stream",
          "name": "stdout",
          "text": [
            "Epoch 1/100\n",
            "938/938 [==============================] - 2s 1ms/step - loss: 0.5729 - accuracy: 0.8424\n",
            "Epoch 2/100\n",
            "938/938 [==============================] - 1s 1ms/step - loss: 0.3023 - accuracy: 0.9143\n",
            "Epoch 3/100\n",
            "938/938 [==============================] - 1s 2ms/step - loss: 0.2732 - accuracy: 0.9236\n",
            "Epoch 4/100\n",
            "938/938 [==============================] - 1s 1ms/step - loss: 0.2583 - accuracy: 0.9274\n",
            "Epoch 5/100\n",
            "938/938 [==============================] - 1s 1ms/step - loss: 0.2478 - accuracy: 0.9305\n",
            "Epoch 6/100\n",
            "938/938 [==============================] - 1s 1ms/step - loss: 0.2400 - accuracy: 0.9327\n",
            "Epoch 7/100\n",
            "938/938 [==============================] - 1s 1ms/step - loss: 0.2336 - accuracy: 0.9349\n",
            "Epoch 8/100\n",
            "938/938 [==============================] - 1s 1ms/step - loss: 0.2285 - accuracy: 0.9355\n",
            "Epoch 9/100\n",
            "938/938 [==============================] - 1s 1ms/step - loss: 0.2236 - accuracy: 0.9364\n",
            "Epoch 10/100\n",
            "938/938 [==============================] - 1s 1ms/step - loss: 0.2197 - accuracy: 0.9379\n",
            "Epoch 11/100\n",
            "938/938 [==============================] - 1s 1ms/step - loss: 0.2160 - accuracy: 0.9391\n",
            "Epoch 12/100\n",
            "938/938 [==============================] - 1s 1ms/step - loss: 0.2127 - accuracy: 0.9395\n",
            "Epoch 13/100\n",
            "938/938 [==============================] - 1s 2ms/step - loss: 0.2103 - accuracy: 0.9399\n",
            "Epoch 14/100\n",
            "938/938 [==============================] - 1s 2ms/step - loss: 0.2071 - accuracy: 0.9411\n",
            "Epoch 15/100\n",
            "938/938 [==============================] - 1s 1ms/step - loss: 0.2046 - accuracy: 0.9421\n",
            "Epoch 16/100\n",
            "938/938 [==============================] - 1s 1ms/step - loss: 0.2019 - accuracy: 0.9420\n",
            "Epoch 17/100\n",
            "938/938 [==============================] - 1s 1ms/step - loss: 0.1992 - accuracy: 0.9434\n",
            "Epoch 18/100\n",
            "938/938 [==============================] - 2s 2ms/step - loss: 0.1970 - accuracy: 0.9432\n",
            "Epoch 19/100\n",
            "938/938 [==============================] - 1s 1ms/step - loss: 0.1958 - accuracy: 0.9439\n",
            "Epoch 20/100\n",
            "938/938 [==============================] - 1s 1ms/step - loss: 0.1930 - accuracy: 0.9441\n",
            "Epoch 21/100\n",
            "938/938 [==============================] - 1s 1ms/step - loss: 0.1913 - accuracy: 0.9452\n",
            "Epoch 22/100\n",
            "938/938 [==============================] - 1s 1ms/step - loss: 0.1897 - accuracy: 0.9452\n",
            "Epoch 23/100\n",
            "938/938 [==============================] - 1s 1ms/step - loss: 0.1879 - accuracy: 0.9452\n",
            "Epoch 24/100\n",
            "938/938 [==============================] - 1s 2ms/step - loss: 0.1859 - accuracy: 0.9463\n",
            "Epoch 25/100\n",
            "938/938 [==============================] - 1s 1ms/step - loss: 0.1840 - accuracy: 0.9467\n",
            "Epoch 26/100\n",
            "938/938 [==============================] - 1s 1ms/step - loss: 0.1823 - accuracy: 0.9471\n",
            "Epoch 27/100\n",
            "938/938 [==============================] - 1s 1ms/step - loss: 0.1811 - accuracy: 0.9475\n",
            "Epoch 28/100\n",
            "938/938 [==============================] - 1s 1ms/step - loss: 0.1794 - accuracy: 0.9478\n",
            "Epoch 29/100\n",
            "938/938 [==============================] - 1s 1ms/step - loss: 0.1787 - accuracy: 0.9482\n",
            "Epoch 30/100\n",
            "938/938 [==============================] - 1s 1ms/step - loss: 0.1771 - accuracy: 0.9481\n",
            "Epoch 31/100\n",
            "938/938 [==============================] - 1s 1ms/step - loss: 0.1756 - accuracy: 0.9488\n",
            "Epoch 32/100\n",
            "938/938 [==============================] - 1s 1ms/step - loss: 0.1741 - accuracy: 0.9491\n",
            "Epoch 33/100\n",
            "938/938 [==============================] - 1s 1ms/step - loss: 0.1728 - accuracy: 0.9496\n",
            "Epoch 34/100\n",
            "938/938 [==============================] - 2s 2ms/step - loss: 0.1718 - accuracy: 0.9495\n",
            "Epoch 35/100\n",
            "938/938 [==============================] - 1s 1ms/step - loss: 0.1707 - accuracy: 0.9504\n",
            "Epoch 36/100\n",
            "938/938 [==============================] - 1s 1ms/step - loss: 0.1691 - accuracy: 0.9507\n",
            "Epoch 37/100\n",
            "938/938 [==============================] - 1s 1ms/step - loss: 0.1691 - accuracy: 0.9503\n",
            "Epoch 38/100\n",
            "938/938 [==============================] - 1s 1ms/step - loss: 0.1671 - accuracy: 0.9506\n",
            "Epoch 39/100\n",
            "938/938 [==============================] - 1s 1ms/step - loss: 0.1657 - accuracy: 0.9517\n",
            "Epoch 40/100\n",
            "938/938 [==============================] - 1s 1ms/step - loss: 0.1647 - accuracy: 0.9521\n",
            "Epoch 41/100\n",
            "938/938 [==============================] - 1s 1ms/step - loss: 0.1638 - accuracy: 0.9515\n",
            "Epoch 42/100\n",
            "938/938 [==============================] - 1s 1ms/step - loss: 0.1625 - accuracy: 0.9527\n",
            "Epoch 43/100\n",
            "938/938 [==============================] - 1s 1ms/step - loss: 0.1616 - accuracy: 0.9526\n",
            "Epoch 44/100\n",
            "938/938 [==============================] - 1s 1ms/step - loss: 0.1607 - accuracy: 0.9526\n",
            "Epoch 45/100\n",
            "938/938 [==============================] - 2s 2ms/step - loss: 0.1606 - accuracy: 0.9533\n",
            "Epoch 46/100\n",
            "938/938 [==============================] - 1s 1ms/step - loss: 0.1589 - accuracy: 0.9535\n",
            "Epoch 47/100\n",
            "938/938 [==============================] - 1s 1ms/step - loss: 0.1584 - accuracy: 0.9531\n",
            "Epoch 48/100\n",
            "938/938 [==============================] - 1s 1ms/step - loss: 0.1578 - accuracy: 0.9545\n",
            "Epoch 49/100\n",
            "938/938 [==============================] - 1s 1ms/step - loss: 0.1575 - accuracy: 0.9535\n",
            "Epoch 50/100\n",
            "938/938 [==============================] - 1s 1ms/step - loss: 0.1565 - accuracy: 0.9539\n",
            "Epoch 51/100\n",
            "938/938 [==============================] - 1s 1ms/step - loss: 0.1564 - accuracy: 0.9537\n",
            "Epoch 52/100\n",
            "938/938 [==============================] - 1s 1ms/step - loss: 0.1558 - accuracy: 0.9548\n",
            "Epoch 53/100\n",
            "938/938 [==============================] - 1s 1ms/step - loss: 0.1549 - accuracy: 0.9542\n",
            "Epoch 54/100\n",
            "938/938 [==============================] - 1s 1ms/step - loss: 0.1542 - accuracy: 0.9553\n",
            "Epoch 55/100\n",
            "938/938 [==============================] - 1s 1ms/step - loss: 0.1534 - accuracy: 0.9551\n",
            "Epoch 56/100\n",
            "938/938 [==============================] - 1s 2ms/step - loss: 0.1531 - accuracy: 0.9550\n",
            "Epoch 57/100\n",
            "938/938 [==============================] - 1s 1ms/step - loss: 0.1517 - accuracy: 0.9553\n",
            "Epoch 58/100\n",
            "938/938 [==============================] - 1s 1ms/step - loss: 0.1521 - accuracy: 0.9551\n",
            "Epoch 59/100\n",
            "938/938 [==============================] - 1s 1ms/step - loss: 0.1516 - accuracy: 0.9558\n",
            "Epoch 60/100\n",
            "938/938 [==============================] - 1s 1ms/step - loss: 0.1504 - accuracy: 0.9560\n",
            "Epoch 61/100\n",
            "938/938 [==============================] - 1s 2ms/step - loss: 0.1503 - accuracy: 0.9559\n",
            "Epoch 62/100\n",
            "938/938 [==============================] - 1s 1ms/step - loss: 0.1505 - accuracy: 0.9559\n",
            "Epoch 63/100\n",
            "938/938 [==============================] - 1s 1ms/step - loss: 0.1500 - accuracy: 0.9554\n",
            "Epoch 64/100\n",
            "938/938 [==============================] - 1s 1ms/step - loss: 0.1495 - accuracy: 0.9559\n",
            "Epoch 65/100\n",
            "938/938 [==============================] - 1s 1ms/step - loss: 0.1487 - accuracy: 0.9558\n",
            "Epoch 66/100\n",
            "938/938 [==============================] - 2s 2ms/step - loss: 0.1481 - accuracy: 0.9568\n",
            "Epoch 67/100\n",
            "938/938 [==============================] - 1s 1ms/step - loss: 0.1476 - accuracy: 0.9558\n",
            "Epoch 68/100\n",
            "938/938 [==============================] - 1s 1ms/step - loss: 0.1471 - accuracy: 0.9565\n",
            "Epoch 69/100\n",
            "938/938 [==============================] - 1s 1ms/step - loss: 0.1470 - accuracy: 0.9571\n",
            "Epoch 70/100\n",
            "938/938 [==============================] - 1s 1ms/step - loss: 0.1462 - accuracy: 0.9565\n",
            "Epoch 71/100\n",
            "938/938 [==============================] - 1s 1ms/step - loss: 0.1463 - accuracy: 0.9569\n",
            "Epoch 72/100\n",
            "938/938 [==============================] - 1s 1ms/step - loss: 0.1455 - accuracy: 0.9571\n",
            "Epoch 73/100\n",
            "938/938 [==============================] - 1s 1ms/step - loss: 0.1461 - accuracy: 0.9568\n",
            "Epoch 74/100\n",
            "938/938 [==============================] - 1s 1ms/step - loss: 0.1445 - accuracy: 0.9562\n",
            "Epoch 75/100\n",
            "938/938 [==============================] - 1s 1ms/step - loss: 0.1454 - accuracy: 0.9570\n",
            "Epoch 76/100\n",
            "938/938 [==============================] - 1s 2ms/step - loss: 0.1450 - accuracy: 0.9574\n",
            "Epoch 77/100\n",
            "938/938 [==============================] - 1s 2ms/step - loss: 0.1445 - accuracy: 0.9569\n",
            "Epoch 78/100\n",
            "938/938 [==============================] - 1s 1ms/step - loss: 0.1442 - accuracy: 0.9576\n",
            "Epoch 79/100\n",
            "938/938 [==============================] - 1s 1ms/step - loss: 0.1436 - accuracy: 0.9574\n",
            "Epoch 80/100\n",
            "938/938 [==============================] - 1s 1ms/step - loss: 0.1439 - accuracy: 0.9577\n",
            "Epoch 81/100\n",
            "938/938 [==============================] - 1s 1ms/step - loss: 0.1422 - accuracy: 0.9580\n",
            "Epoch 82/100\n",
            "938/938 [==============================] - 1s 1ms/step - loss: 0.1423 - accuracy: 0.9575\n",
            "Epoch 83/100\n",
            "938/938 [==============================] - 1s 1ms/step - loss: 0.1420 - accuracy: 0.9580\n",
            "Epoch 84/100\n",
            "938/938 [==============================] - 1s 1ms/step - loss: 0.1414 - accuracy: 0.9579\n",
            "Epoch 85/100\n",
            "938/938 [==============================] - 1s 1ms/step - loss: 0.1411 - accuracy: 0.9581\n",
            "Epoch 86/100\n",
            "938/938 [==============================] - 1s 1ms/step - loss: 0.1419 - accuracy: 0.9580\n",
            "Epoch 87/100\n",
            "938/938 [==============================] - 1s 1ms/step - loss: 0.1410 - accuracy: 0.9578\n",
            "Epoch 88/100\n",
            "938/938 [==============================] - 1s 1ms/step - loss: 0.1405 - accuracy: 0.9584\n",
            "Epoch 89/100\n",
            "938/938 [==============================] - 1s 1ms/step - loss: 0.1408 - accuracy: 0.9584\n",
            "Epoch 90/100\n",
            "938/938 [==============================] - 1s 1ms/step - loss: 0.1401 - accuracy: 0.9584\n",
            "Epoch 91/100\n",
            "938/938 [==============================] - 1s 1ms/step - loss: 0.1404 - accuracy: 0.9579\n",
            "Epoch 92/100\n",
            "938/938 [==============================] - 1s 1ms/step - loss: 0.1397 - accuracy: 0.9589\n",
            "Epoch 93/100\n",
            "938/938 [==============================] - 1s 1ms/step - loss: 0.1397 - accuracy: 0.9586\n",
            "Epoch 94/100\n",
            "938/938 [==============================] - 1s 1ms/step - loss: 0.1398 - accuracy: 0.9578\n",
            "Epoch 95/100\n",
            "938/938 [==============================] - 1s 1ms/step - loss: 0.1392 - accuracy: 0.9589\n",
            "Epoch 96/100\n",
            "938/938 [==============================] - 1s 1ms/step - loss: 0.1390 - accuracy: 0.9580\n",
            "Epoch 97/100\n",
            "938/938 [==============================] - 1s 1ms/step - loss: 0.1385 - accuracy: 0.9586\n",
            "Epoch 98/100\n",
            "938/938 [==============================] - 1s 2ms/step - loss: 0.1384 - accuracy: 0.9585\n",
            "Epoch 99/100\n",
            "938/938 [==============================] - 1s 1ms/step - loss: 0.1382 - accuracy: 0.9588\n",
            "Epoch 100/100\n",
            "938/938 [==============================] - 1s 1ms/step - loss: 0.1371 - accuracy: 0.9591\n"
          ]
        },
        {
          "output_type": "execute_result",
          "data": {
            "text/plain": [
              "<keras.src.callbacks.History at 0x7eb020a9d660>"
            ]
          },
          "metadata": {},
          "execution_count": 8
        }
      ]
    },
    {
      "cell_type": "code",
      "source": [
        "#\n",
        "#\n",
        "#\n",
        "#\n",
        "\n",
        "#\n",
        "#\n",
        "\n",
        "\n",
        "\n",
        "#\n",
        "\n",
        "\n",
        "\n",
        "\n",
        "#"
      ],
      "metadata": {
        "id": "8Yiq2k1AgfEO"
      },
      "execution_count": 10,
      "outputs": []
    },
    {
      "cell_type": "code",
      "source": [
        "import matplotlib.pyplot as plt"
      ],
      "metadata": {
        "id": "dtiTOyDviMcQ"
      },
      "execution_count": 24,
      "outputs": []
    },
    {
      "cell_type": "code",
      "source": [
        "import tensorflow as tf"
      ],
      "metadata": {
        "id": "5U2Ngc60gjW_"
      },
      "execution_count": 11,
      "outputs": []
    },
    {
      "cell_type": "code",
      "source": [
        "(x_train, y_train),(x_test, y_test) = keras.datasets.mnist.load_data()"
      ],
      "metadata": {
        "id": "60kqOaaBg_Lv"
      },
      "execution_count": 12,
      "outputs": []
    },
    {
      "cell_type": "code",
      "source": [
        "x_train = tf.keras.utils.normalize(x_train, axis=1)\n",
        "x_test = tf.keras.utils.normalize(x_test, axis=1)"
      ],
      "metadata": {
        "id": "0n55o2klhBeu"
      },
      "execution_count": 13,
      "outputs": []
    },
    {
      "cell_type": "code",
      "source": [
        "model = tf.keras.models.Sequential()\n",
        "model.add(tf.keras.layers.Flatten())\n",
        "model.add(tf.keras.layers.Dense(128, activation=tf.nn.relu))\n",
        "model.add(tf.keras.layers.Dense(128, activation=tf.nn.relu))\n",
        "model.add(tf.keras.layers.Dense(10, activation=tf.nn.softmax))"
      ],
      "metadata": {
        "id": "IOSL2-nehD6W"
      },
      "execution_count": 14,
      "outputs": []
    },
    {
      "cell_type": "code",
      "source": [
        "model.compile(optimizer='adam',\n",
        "              loss='sparse_categorical_crossentropy',\n",
        "              metrics=['accuracy'])"
      ],
      "metadata": {
        "id": "YcvHdqpQhFgO"
      },
      "execution_count": 15,
      "outputs": []
    },
    {
      "cell_type": "code",
      "source": [
        "model.fit(x_train, y_train, epochs=10)"
      ],
      "metadata": {
        "colab": {
          "base_uri": "https://localhost:8080/"
        },
        "id": "oYrBIijphHCu",
        "outputId": "40c225b0-dd0a-414b-85e4-f43a39eb39ad"
      },
      "execution_count": 16,
      "outputs": [
        {
          "output_type": "stream",
          "name": "stdout",
          "text": [
            "Epoch 1/10\n",
            "1875/1875 [==============================] - 12s 6ms/step - loss: 0.2603 - accuracy: 0.9246\n",
            "Epoch 2/10\n",
            "1875/1875 [==============================] - 14s 7ms/step - loss: 0.1051 - accuracy: 0.9681\n",
            "Epoch 3/10\n",
            "1875/1875 [==============================] - 14s 7ms/step - loss: 0.0714 - accuracy: 0.9772\n",
            "Epoch 4/10\n",
            "1875/1875 [==============================] - 13s 7ms/step - loss: 0.0529 - accuracy: 0.9829\n",
            "Epoch 5/10\n",
            "1875/1875 [==============================] - 14s 7ms/step - loss: 0.0408 - accuracy: 0.9869\n",
            "Epoch 6/10\n",
            "1875/1875 [==============================] - 14s 7ms/step - loss: 0.0309 - accuracy: 0.9897\n",
            "Epoch 7/10\n",
            "1875/1875 [==============================] - 12s 7ms/step - loss: 0.0256 - accuracy: 0.9913\n",
            "Epoch 8/10\n",
            "1875/1875 [==============================] - 11s 6ms/step - loss: 0.0206 - accuracy: 0.9928\n",
            "Epoch 9/10\n",
            "1875/1875 [==============================] - 11s 6ms/step - loss: 0.0174 - accuracy: 0.9941\n",
            "Epoch 10/10\n",
            "1875/1875 [==============================] - 11s 6ms/step - loss: 0.0160 - accuracy: 0.9942\n"
          ]
        },
        {
          "output_type": "execute_result",
          "data": {
            "text/plain": [
              "<keras.src.callbacks.History at 0x7b4d409f4e50>"
            ]
          },
          "metadata": {},
          "execution_count": 16
        }
      ]
    },
    {
      "cell_type": "code",
      "source": [
        "val_loss, val_acc = model.evaluate(x_test, y_test)\n",
        "print(val_loss)\n",
        "print(val_acc)"
      ],
      "metadata": {
        "colab": {
          "base_uri": "https://localhost:8080/"
        },
        "id": "kngsku-ZhJI-",
        "outputId": "35247c90-471e-4194-9b51-e3b5cda05438"
      },
      "execution_count": 17,
      "outputs": [
        {
          "output_type": "stream",
          "name": "stdout",
          "text": [
            "313/313 [==============================] - 1s 3ms/step - loss: 0.1056 - accuracy: 0.9745\n",
            "0.10555102676153183\n",
            "0.9745000004768372\n"
          ]
        }
      ]
    },
    {
      "cell_type": "code",
      "source": [
        "model.save('mnist_model.model')"
      ],
      "metadata": {
        "id": "BqvUQVq6hUt3"
      },
      "execution_count": 18,
      "outputs": []
    },
    {
      "cell_type": "code",
      "source": [
        "new_model = tf.keras.models.load_model('mnist_model.model')"
      ],
      "metadata": {
        "id": "DPVsv7jahcem"
      },
      "execution_count": 19,
      "outputs": []
    },
    {
      "cell_type": "code",
      "source": [
        "predictions = new_model.predict(x_test)"
      ],
      "metadata": {
        "colab": {
          "base_uri": "https://localhost:8080/"
        },
        "id": "mQHZu6a-hi_2",
        "outputId": "be507ed5-019d-49d0-cfba-0a828cd3b7c8"
      },
      "execution_count": 20,
      "outputs": [
        {
          "output_type": "stream",
          "name": "stdout",
          "text": [
            "313/313 [==============================] - 1s 2ms/step\n"
          ]
        }
      ]
    },
    {
      "cell_type": "code",
      "source": [
        "print(predictions)"
      ],
      "metadata": {
        "colab": {
          "base_uri": "https://localhost:8080/"
        },
        "id": "pu8RRq_Nhmb_",
        "outputId": "b8fb936f-a5d4-4e69-f97b-52eb7cc9af1a"
      },
      "execution_count": 21,
      "outputs": [
        {
          "output_type": "stream",
          "name": "stdout",
          "text": [
            "[[6.8879806e-17 1.7861275e-14 2.0683650e-12 ... 9.9999994e-01\n",
            "  2.8138785e-17 3.1821615e-14]\n",
            " [4.5586900e-17 4.2308435e-12 9.9999994e-01 ... 2.0011579e-14\n",
            "  1.0887113e-16 1.5412722e-25]\n",
            " [5.6178690e-12 9.9999875e-01 1.7581570e-09 ... 1.1404833e-06\n",
            "  4.4619878e-08 1.6458022e-09]\n",
            " ...\n",
            " [8.2202301e-12 3.0234371e-08 1.4208255e-13 ... 7.8903275e-07\n",
            "  3.1923946e-11 1.8646985e-07]\n",
            " [8.9707952e-14 3.3232803e-16 2.5439889e-15 ... 5.7903270e-13\n",
            "  1.5368668e-06 1.7835732e-16]\n",
            " [3.5527050e-12 4.9830197e-13 1.2857003e-13 ... 6.1572901e-18\n",
            "  7.2949060e-12 2.9158090e-17]]\n"
          ]
        }
      ]
    },
    {
      "cell_type": "code",
      "source": [
        "print(np.argmax(predictions[9]))"
      ],
      "metadata": {
        "colab": {
          "base_uri": "https://localhost:8080/"
        },
        "id": "ZhNtxWqTh1X3",
        "outputId": "fa139437-2ae1-49d2-a7a0-a933bcd77b1c"
      },
      "execution_count": 26,
      "outputs": [
        {
          "output_type": "stream",
          "name": "stdout",
          "text": [
            "9\n"
          ]
        }
      ]
    },
    {
      "cell_type": "code",
      "source": [
        "plt.imshow(x_test[9],cmap=plt.cm.binary)\n",
        "plt.show()"
      ],
      "metadata": {
        "colab": {
          "base_uri": "https://localhost:8080/",
          "height": 430
        },
        "id": "rtrsJK3DiE9_",
        "outputId": "b5860897-b8ae-466e-a77b-c026b0c7c9b9"
      },
      "execution_count": 27,
      "outputs": [
        {
          "output_type": "display_data",
          "data": {
            "text/plain": [
              "<Figure size 640x480 with 1 Axes>"
            ],
            "image/png": "[encoded data removed]"
          },
          "metadata": {}
        }
      ]
    }
  ]
}