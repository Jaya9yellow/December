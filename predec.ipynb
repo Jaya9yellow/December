{
  "nbformat": 4,
  "nbformat_minor": 0,
  "metadata": {
    "colab": {
      "provenance": [],
      "authorship_tag": "ABX9TyOMKWobY3XOfP2OKpsn/t0+",
      "include_colab_link": true
    },
    "kernelspec": {
      "name": "python3",
      "display_name": "Python 3"
    },
    "language_info": {
      "name": "python"
    }
  },
  "cells": [
    {
      "cell_type": "markdown",
      "metadata": {
        "id": "view-in-github",
        "colab_type": "text"
      },
      "source": [
        "<a href=\"https://colab.research.google.com/github/Jaya9yellow/December/blob/main/predec.ipynb\" target=\"_parent\"><img src=\"https://colab.research.google.com/assets/colab-badge.svg\" alt=\"Open In Colab\"/></a>"
      ]
    },
    {
      "cell_type": "code",
      "source": [
        "import numpy as np\n",
        "\n",
        "A = np.array([[2,6,-1], [1,2,-2] ,[-5,0,2]])\n",
        "S= np.array([0,1,8])\n",
        "\n",
        "print(np.linalg.solve(A,S))\n",
        "\n"
      ],
      "metadata": {
        "colab": {
          "base_uri": "https://localhost:8080/"
        },
        "id": "86-sU1Tyguk3",
        "outputId": "3e774698-6625-4f86-edc7-67c7b96f8b13"
      },
      "execution_count": null,
      "outputs": [
        {
          "output_type": "stream",
          "name": "stdout",
          "text": [
            "[-2.   0.5 -1. ]\n"
          ]
        }
      ]
    },
    {
      "cell_type": "code",
      "source": [
        "import numpy as np\n",
        "\n",
        "# system of three equations\n",
        "A = np.array([[2, 6, -1],\n",
        "              [1, 2, -2],\n",
        "              [-5, 0, 2]])\n",
        "b = np.array([0, 1, 8])\n",
        "\n",
        "# compute the inverse\n",
        "A_inv = np.linalg.inv(A)\n",
        "\n",
        "# solution: A_inv * b\n",
        "x = np.dot(A_inv, b)\n",
        "print(x)"
      ],
      "metadata": {
        "id": "tvLt6S_VqziP",
        "outputId": "5813b8bb-43fb-4e99-8fe8-ec1b70904181",
        "colab": {
          "base_uri": "https://localhost:8080/"
        }
      },
      "execution_count": null,
      "outputs": [
        {
          "output_type": "stream",
          "name": "stdout",
          "text": [
            "[-2.   0.5 -1. ]\n"
          ]
        }
      ]
    }
  ]
}