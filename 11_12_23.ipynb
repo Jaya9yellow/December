{
  "nbformat": 4,
  "nbformat_minor": 0,
  "metadata": {
    "colab": {
      "provenance": [],
      "authorship_tag": "ABX9TyOJ6G/Wi2jskCoKTHalVFvO",
      "include_colab_link": true
    },
    "kernelspec": {
      "name": "python3",
      "display_name": "Python 3"
    },
    "language_info": {
      "name": "python"
    }
  },
  "cells": [
    {
      "cell_type": "markdown",
      "metadata": {
        "id": "view-in-github",
        "colab_type": "text"
      },
      "source": [
        "<a href=\"https://colab.research.google.com/github/Jaya9yellow/December/blob/main/11_12_23.ipynb\" target=\"_parent\"><img src=\"https://colab.research.google.com/assets/colab-badge.svg\" alt=\"Open In Colab\"/></a>"
      ]
    },
    {
      "cell_type": "code",
      "metadata": {
        "id": "CGXfkg2UBTyo"
      },
      "source": [
        "import pandas as pd\n",
        "import numpy as np\n",
        "import seaborn as sns\n",
        "sns.set()\n",
        "import matplotlib.pyplot as plt\n",
        "%matplotlib inline\n",
        "import datetime as dt\n",
        "import warnings; warnings.simplefilter('ignore')"
      ],
      "execution_count": null,
      "outputs": []
    },
    {
      "cell_type": "code",
      "metadata": {
        "id": "6YlP2oz9Bwju"
      },
      "source": [
        "data=pd.read_csv('/content/Forbes Richest Atheletes (Forbes Richest Athletes 1990-2020).csv')"
      ],
      "execution_count": null,
      "outputs": []
    },
    {
      "cell_type": "code",
      "metadata": {
        "id": "KhoUqPtTVwK8",
        "colab": {
          "base_uri": "https://localhost:8080/",
          "height": 455
        },
        "outputId": "81f68416-cad5-4553-d2e9-defa3d657092"
      },
      "source": [
        "data"
      ],
      "execution_count": null,
      "outputs": [
        {
          "output_type": "execute_result",
          "data": {
            "text/html": [
              "<div>\n",
              "<style scoped>\n",
              "    .dataframe tbody tr th:only-of-type {\n",
              "        vertical-align: middle;\n",
              "    }\n",
              "\n",
              "    .dataframe tbody tr th {\n",
              "        vertical-align: top;\n",
              "    }\n",
              "\n",
              "    .dataframe thead th {\n",
              "        text-align: right;\n",
              "    }\n",
              "</style>\n",
              "<table border=\"1\" class=\"dataframe\">\n",
              "  <thead>\n",
              "    <tr style=\"text-align: right;\">\n",
              "      <th></th>\n",
              "      <th>S.NO</th>\n",
              "      <th>Name</th>\n",
              "      <th>Nationality</th>\n",
              "      <th>Current Rank</th>\n",
              "      <th>Previous Year Rank</th>\n",
              "      <th>Sport</th>\n",
              "      <th>earnings ($ million)</th>\n",
              "    </tr>\n",
              "    <tr>\n",
              "      <th>year</th>\n",
              "      <th></th>\n",
              "      <th></th>\n",
              "      <th></th>\n",
              "      <th></th>\n",
              "      <th></th>\n",
              "      <th></th>\n",
              "      <th></th>\n",
              "    </tr>\n",
              "  </thead>\n",
              "  <tbody>\n",
              "    <tr>\n",
              "      <th>1970</th>\n",
              "      <td>1</td>\n",
              "      <td>Mike Tyson</td>\n",
              "      <td>USA</td>\n",
              "      <td>1</td>\n",
              "      <td>NaN</td>\n",
              "      <td>boxing</td>\n",
              "      <td>28.6</td>\n",
              "    </tr>\n",
              "    <tr>\n",
              "      <th>1970</th>\n",
              "      <td>2</td>\n",
              "      <td>Buster Douglas</td>\n",
              "      <td>USA</td>\n",
              "      <td>2</td>\n",
              "      <td>NaN</td>\n",
              "      <td>boxing</td>\n",
              "      <td>26.0</td>\n",
              "    </tr>\n",
              "    <tr>\n",
              "      <th>1970</th>\n",
              "      <td>3</td>\n",
              "      <td>Sugar Ray Leonard</td>\n",
              "      <td>USA</td>\n",
              "      <td>3</td>\n",
              "      <td>NaN</td>\n",
              "      <td>boxing</td>\n",
              "      <td>13.0</td>\n",
              "    </tr>\n",
              "    <tr>\n",
              "      <th>1970</th>\n",
              "      <td>4</td>\n",
              "      <td>Ayrton Senna</td>\n",
              "      <td>Brazil</td>\n",
              "      <td>4</td>\n",
              "      <td>NaN</td>\n",
              "      <td>auto racing</td>\n",
              "      <td>10.0</td>\n",
              "    </tr>\n",
              "    <tr>\n",
              "      <th>1970</th>\n",
              "      <td>5</td>\n",
              "      <td>Alain Prost</td>\n",
              "      <td>France</td>\n",
              "      <td>5</td>\n",
              "      <td>NaN</td>\n",
              "      <td>auto racing</td>\n",
              "      <td>9.0</td>\n",
              "    </tr>\n",
              "    <tr>\n",
              "      <th>...</th>\n",
              "      <td>...</td>\n",
              "      <td>...</td>\n",
              "      <td>...</td>\n",
              "      <td>...</td>\n",
              "      <td>...</td>\n",
              "      <td>...</td>\n",
              "      <td>...</td>\n",
              "    </tr>\n",
              "    <tr>\n",
              "      <th>1970</th>\n",
              "      <td>297</td>\n",
              "      <td>Stephen Curry</td>\n",
              "      <td>USA</td>\n",
              "      <td>6</td>\n",
              "      <td>9</td>\n",
              "      <td>Basketball</td>\n",
              "      <td>74.4</td>\n",
              "    </tr>\n",
              "    <tr>\n",
              "      <th>1970</th>\n",
              "      <td>298</td>\n",
              "      <td>Kevin Durant</td>\n",
              "      <td>USA</td>\n",
              "      <td>7</td>\n",
              "      <td>10</td>\n",
              "      <td>Basketball</td>\n",
              "      <td>63.9</td>\n",
              "    </tr>\n",
              "    <tr>\n",
              "      <th>1970</th>\n",
              "      <td>299</td>\n",
              "      <td>Tiger Woods</td>\n",
              "      <td>USA</td>\n",
              "      <td>8</td>\n",
              "      <td>11</td>\n",
              "      <td>Golf</td>\n",
              "      <td>62.3</td>\n",
              "    </tr>\n",
              "    <tr>\n",
              "      <th>1970</th>\n",
              "      <td>300</td>\n",
              "      <td>Kirk Cousins</td>\n",
              "      <td>USA</td>\n",
              "      <td>9</td>\n",
              "      <td>&gt;100</td>\n",
              "      <td>American Football</td>\n",
              "      <td>60.5</td>\n",
              "    </tr>\n",
              "    <tr>\n",
              "      <th>1970</th>\n",
              "      <td>301</td>\n",
              "      <td>Carson Wentz</td>\n",
              "      <td>USA</td>\n",
              "      <td>10</td>\n",
              "      <td>&gt;100</td>\n",
              "      <td>American Football</td>\n",
              "      <td>59.1</td>\n",
              "    </tr>\n",
              "  </tbody>\n",
              "</table>\n",
              "<p>301 rows × 7 columns</p>\n",
              "</div>"
            ],
            "text/plain": [
              "      S.NO               Name  ...              Sport  earnings ($ million)\n",
              "year                           ...                                         \n",
              "1970     1         Mike Tyson  ...             boxing                  28.6\n",
              "1970     2     Buster Douglas  ...             boxing                  26.0\n",
              "1970     3  Sugar Ray Leonard  ...             boxing                  13.0\n",
              "1970     4       Ayrton Senna  ...        auto racing                  10.0\n",
              "1970     5        Alain Prost  ...        auto racing                   9.0\n",
              "...    ...                ...  ...                ...                   ...\n",
              "1970   297      Stephen Curry  ...         Basketball                  74.4\n",
              "1970   298       Kevin Durant  ...         Basketball                  63.9\n",
              "1970   299        Tiger Woods  ...               Golf                  62.3\n",
              "1970   300       Kirk Cousins  ...  American Football                  60.5\n",
              "1970   301       Carson Wentz  ...  American Football                  59.1\n",
              "\n",
              "[301 rows x 7 columns]"
            ]
          },
          "metadata": {},
          "execution_count": 84
        }
      ]
    },
    {
      "cell_type": "code",
      "metadata": {
        "colab": {
          "base_uri": "https://localhost:8080/"
        },
        "id": "oOiIhqLnCJe_",
        "outputId": "80fcedec-3237-40ad-f171-0d689707f4b6"
      },
      "source": [
        "data.columns"
      ],
      "execution_count": null,
      "outputs": [
        {
          "output_type": "execute_result",
          "data": {
            "text/plain": [
              "Index(['S.NO', 'Name', 'Nationality', 'Current Rank', 'Previous Year Rank',\n",
              "       'Sport', 'earnings ($ million)'],\n",
              "      dtype='object')"
            ]
          },
          "metadata": {},
          "execution_count": 80
        }
      ]
    },
    {
      "cell_type": "code",
      "metadata": {
        "colab": {
          "base_uri": "https://localhost:8080/"
        },
        "id": "HX5rW7xcCPhs",
        "outputId": "fe5a37b3-ae19-4f32-e218-ce12448fd109"
      },
      "source": [
        "data.dtypes"
      ],
      "execution_count": null,
      "outputs": [
        {
          "output_type": "execute_result",
          "data": {
            "text/plain": [
              "S.NO                      int64\n",
              "Name                     object\n",
              "Nationality              object\n",
              "Current Rank              int64\n",
              "Previous Year Rank       object\n",
              "Sport                    object\n",
              "Year                      int64\n",
              "earnings ($ million)    float64\n",
              "dtype: object"
            ]
          },
          "metadata": {},
          "execution_count": 70
        }
      ]
    },
    {
      "cell_type": "code",
      "metadata": {
        "colab": {
          "base_uri": "https://localhost:8080/",
          "height": 206
        },
        "id": "7WXcRImoCTK1",
        "outputId": "adef41e0-5976-46e0-ca6b-05ecd958f9a9"
      },
      "source": [
        "data.head()\n"
      ],
      "execution_count": null,
      "outputs": [
        {
          "output_type": "execute_result",
          "data": {
            "text/html": [
              "<div>\n",
              "<style scoped>\n",
              "    .dataframe tbody tr th:only-of-type {\n",
              "        vertical-align: middle;\n",
              "    }\n",
              "\n",
              "    .dataframe tbody tr th {\n",
              "        vertical-align: top;\n",
              "    }\n",
              "\n",
              "    .dataframe thead th {\n",
              "        text-align: right;\n",
              "    }\n",
              "</style>\n",
              "<table border=\"1\" class=\"dataframe\">\n",
              "  <thead>\n",
              "    <tr style=\"text-align: right;\">\n",
              "      <th></th>\n",
              "      <th>S.NO</th>\n",
              "      <th>Name</th>\n",
              "      <th>Nationality</th>\n",
              "      <th>Current Rank</th>\n",
              "      <th>Previous Year Rank</th>\n",
              "      <th>Sport</th>\n",
              "      <th>Year</th>\n",
              "      <th>earnings ($ million)</th>\n",
              "    </tr>\n",
              "  </thead>\n",
              "  <tbody>\n",
              "    <tr>\n",
              "      <th>0</th>\n",
              "      <td>1</td>\n",
              "      <td>Mike Tyson</td>\n",
              "      <td>USA</td>\n",
              "      <td>1</td>\n",
              "      <td>NaN</td>\n",
              "      <td>boxing</td>\n",
              "      <td>1990</td>\n",
              "      <td>28.6</td>\n",
              "    </tr>\n",
              "    <tr>\n",
              "      <th>1</th>\n",
              "      <td>2</td>\n",
              "      <td>Buster Douglas</td>\n",
              "      <td>USA</td>\n",
              "      <td>2</td>\n",
              "      <td>NaN</td>\n",
              "      <td>boxing</td>\n",
              "      <td>1990</td>\n",
              "      <td>26.0</td>\n",
              "    </tr>\n",
              "    <tr>\n",
              "      <th>2</th>\n",
              "      <td>3</td>\n",
              "      <td>Sugar Ray Leonard</td>\n",
              "      <td>USA</td>\n",
              "      <td>3</td>\n",
              "      <td>NaN</td>\n",
              "      <td>boxing</td>\n",
              "      <td>1990</td>\n",
              "      <td>13.0</td>\n",
              "    </tr>\n",
              "    <tr>\n",
              "      <th>3</th>\n",
              "      <td>4</td>\n",
              "      <td>Ayrton Senna</td>\n",
              "      <td>Brazil</td>\n",
              "      <td>4</td>\n",
              "      <td>NaN</td>\n",
              "      <td>auto racing</td>\n",
              "      <td>1990</td>\n",
              "      <td>10.0</td>\n",
              "    </tr>\n",
              "    <tr>\n",
              "      <th>4</th>\n",
              "      <td>5</td>\n",
              "      <td>Alain Prost</td>\n",
              "      <td>France</td>\n",
              "      <td>5</td>\n",
              "      <td>NaN</td>\n",
              "      <td>auto racing</td>\n",
              "      <td>1990</td>\n",
              "      <td>9.0</td>\n",
              "    </tr>\n",
              "  </tbody>\n",
              "</table>\n",
              "</div>"
            ],
            "text/plain": [
              "   S.NO               Name Nationality  ...        Sport  Year earnings ($ million)\n",
              "0     1         Mike Tyson         USA  ...       boxing  1990                 28.6\n",
              "1     2     Buster Douglas         USA  ...       boxing  1990                 26.0\n",
              "2     3  Sugar Ray Leonard         USA  ...       boxing  1990                 13.0\n",
              "3     4       Ayrton Senna      Brazil  ...  auto racing  1990                 10.0\n",
              "4     5        Alain Prost      France  ...  auto racing  1990                  9.0\n",
              "\n",
              "[5 rows x 8 columns]"
            ]
          },
          "metadata": {},
          "execution_count": 71
        }
      ]
    },
    {
      "cell_type": "code",
      "metadata": {
        "colab": {
          "base_uri": "https://localhost:8080/"
        },
        "id": "d3KE_9GZCW7Z",
        "outputId": "1fed8323-404a-4dbb-aea9-dca31a52a8b5"
      },
      "source": [
        "data.isnull().sum()"
      ],
      "execution_count": null,
      "outputs": [
        {
          "output_type": "execute_result",
          "data": {
            "text/plain": [
              "S.NO                     0\n",
              "Name                     0\n",
              "Nationality              0\n",
              "Current Rank             0\n",
              "Previous Year Rank      24\n",
              "Sport                    0\n",
              "Year                     0\n",
              "earnings ($ million)     0\n",
              "dtype: int64"
            ]
          },
          "metadata": {},
          "execution_count": 72
        }
      ]
    },
    {
      "cell_type": "code",
      "metadata": {
        "colab": {
          "base_uri": "https://localhost:8080/"
        },
        "id": "bQ7nln9uDCrB",
        "outputId": "83c42667-eea2-4b0c-eff0-bda636fdd16d"
      },
      "source": [
        "data.nunique()"
      ],
      "execution_count": null,
      "outputs": [
        {
          "output_type": "execute_result",
          "data": {
            "text/plain": [
              "S.NO                    301\n",
              "Name                     82\n",
              "Nationality              22\n",
              "Current Rank             10\n",
              "Previous Year Rank       36\n",
              "Sport                    29\n",
              "Year                     30\n",
              "earnings ($ million)    198\n",
              "dtype: int64"
            ]
          },
          "metadata": {},
          "execution_count": 73
        }
      ]
    },
    {
      "cell_type": "code",
      "metadata": {
        "colab": {
          "base_uri": "https://localhost:8080/",
          "height": 300
        },
        "id": "3SdqGhhrDHKQ",
        "outputId": "cc38db4a-7942-4b8e-f131-9e13b70f33ae"
      },
      "source": [
        "data.describe()"
      ],
      "execution_count": null,
      "outputs": [
        {
          "output_type": "execute_result",
          "data": {
            "text/html": [
              "<div>\n",
              "<style scoped>\n",
              "    .dataframe tbody tr th:only-of-type {\n",
              "        vertical-align: middle;\n",
              "    }\n",
              "\n",
              "    .dataframe tbody tr th {\n",
              "        vertical-align: top;\n",
              "    }\n",
              "\n",
              "    .dataframe thead th {\n",
              "        text-align: right;\n",
              "    }\n",
              "</style>\n",
              "<table border=\"1\" class=\"dataframe\">\n",
              "  <thead>\n",
              "    <tr style=\"text-align: right;\">\n",
              "      <th></th>\n",
              "      <th>S.NO</th>\n",
              "      <th>Current Rank</th>\n",
              "      <th>Year</th>\n",
              "      <th>earnings ($ million)</th>\n",
              "    </tr>\n",
              "  </thead>\n",
              "  <tbody>\n",
              "    <tr>\n",
              "      <th>count</th>\n",
              "      <td>301.000000</td>\n",
              "      <td>301.000000</td>\n",
              "      <td>301.000000</td>\n",
              "      <td>301.000000</td>\n",
              "    </tr>\n",
              "    <tr>\n",
              "      <th>mean</th>\n",
              "      <td>151.000000</td>\n",
              "      <td>5.448505</td>\n",
              "      <td>2005.122924</td>\n",
              "      <td>45.516279</td>\n",
              "    </tr>\n",
              "    <tr>\n",
              "      <th>std</th>\n",
              "      <td>87.035433</td>\n",
              "      <td>2.850995</td>\n",
              "      <td>9.063563</td>\n",
              "      <td>33.525337</td>\n",
              "    </tr>\n",
              "    <tr>\n",
              "      <th>min</th>\n",
              "      <td>1.000000</td>\n",
              "      <td>1.000000</td>\n",
              "      <td>1990.000000</td>\n",
              "      <td>8.100000</td>\n",
              "    </tr>\n",
              "    <tr>\n",
              "      <th>25%</th>\n",
              "      <td>76.000000</td>\n",
              "      <td>3.000000</td>\n",
              "      <td>1997.000000</td>\n",
              "      <td>24.000000</td>\n",
              "    </tr>\n",
              "    <tr>\n",
              "      <th>50%</th>\n",
              "      <td>151.000000</td>\n",
              "      <td>5.000000</td>\n",
              "      <td>2005.000000</td>\n",
              "      <td>39.000000</td>\n",
              "    </tr>\n",
              "    <tr>\n",
              "      <th>75%</th>\n",
              "      <td>226.000000</td>\n",
              "      <td>8.000000</td>\n",
              "      <td>2013.000000</td>\n",
              "      <td>59.400000</td>\n",
              "    </tr>\n",
              "    <tr>\n",
              "      <th>max</th>\n",
              "      <td>301.000000</td>\n",
              "      <td>10.000000</td>\n",
              "      <td>2020.000000</td>\n",
              "      <td>300.000000</td>\n",
              "    </tr>\n",
              "  </tbody>\n",
              "</table>\n",
              "</div>"
            ],
            "text/plain": [
              "             S.NO  Current Rank         Year  earnings ($ million)\n",
              "count  301.000000    301.000000   301.000000            301.000000\n",
              "mean   151.000000      5.448505  2005.122924             45.516279\n",
              "std     87.035433      2.850995     9.063563             33.525337\n",
              "min      1.000000      1.000000  1990.000000              8.100000\n",
              "25%     76.000000      3.000000  1997.000000             24.000000\n",
              "50%    151.000000      5.000000  2005.000000             39.000000\n",
              "75%    226.000000      8.000000  2013.000000             59.400000\n",
              "max    301.000000     10.000000  2020.000000            300.000000"
            ]
          },
          "metadata": {},
          "execution_count": 74
        }
      ]
    },
    {
      "cell_type": "code",
      "metadata": {
        "id": "xtuAkimzEkFz"
      },
      "source": [
        "data['Year']=pd.to_datetime(data['Year'])"
      ],
      "execution_count": null,
      "outputs": []
    },
    {
      "cell_type": "code",
      "metadata": {
        "colab": {
          "base_uri": "https://localhost:8080/",
          "height": 206
        },
        "id": "nxm3uN5JFiVf",
        "outputId": "45b745cd-c7bb-46d7-ebe7-c10a7aaf8433"
      },
      "source": [
        "data.head()"
      ],
      "execution_count": null,
      "outputs": [
        {
          "output_type": "execute_result",
          "data": {
            "text/html": [
              "<div>\n",
              "<style scoped>\n",
              "    .dataframe tbody tr th:only-of-type {\n",
              "        vertical-align: middle;\n",
              "    }\n",
              "\n",
              "    .dataframe tbody tr th {\n",
              "        vertical-align: top;\n",
              "    }\n",
              "\n",
              "    .dataframe thead th {\n",
              "        text-align: right;\n",
              "    }\n",
              "</style>\n",
              "<table border=\"1\" class=\"dataframe\">\n",
              "  <thead>\n",
              "    <tr style=\"text-align: right;\">\n",
              "      <th></th>\n",
              "      <th>S.NO</th>\n",
              "      <th>Name</th>\n",
              "      <th>Nationality</th>\n",
              "      <th>Current Rank</th>\n",
              "      <th>Previous Year Rank</th>\n",
              "      <th>Sport</th>\n",
              "      <th>Year</th>\n",
              "      <th>earnings ($ million)</th>\n",
              "    </tr>\n",
              "  </thead>\n",
              "  <tbody>\n",
              "    <tr>\n",
              "      <th>0</th>\n",
              "      <td>1</td>\n",
              "      <td>Mike Tyson</td>\n",
              "      <td>USA</td>\n",
              "      <td>1</td>\n",
              "      <td>NaN</td>\n",
              "      <td>boxing</td>\n",
              "      <td>1970-01-01 00:00:00.000001990</td>\n",
              "      <td>28.6</td>\n",
              "    </tr>\n",
              "    <tr>\n",
              "      <th>1</th>\n",
              "      <td>2</td>\n",
              "      <td>Buster Douglas</td>\n",
              "      <td>USA</td>\n",
              "      <td>2</td>\n",
              "      <td>NaN</td>\n",
              "      <td>boxing</td>\n",
              "      <td>1970-01-01 00:00:00.000001990</td>\n",
              "      <td>26.0</td>\n",
              "    </tr>\n",
              "    <tr>\n",
              "      <th>2</th>\n",
              "      <td>3</td>\n",
              "      <td>Sugar Ray Leonard</td>\n",
              "      <td>USA</td>\n",
              "      <td>3</td>\n",
              "      <td>NaN</td>\n",
              "      <td>boxing</td>\n",
              "      <td>1970-01-01 00:00:00.000001990</td>\n",
              "      <td>13.0</td>\n",
              "    </tr>\n",
              "    <tr>\n",
              "      <th>3</th>\n",
              "      <td>4</td>\n",
              "      <td>Ayrton Senna</td>\n",
              "      <td>Brazil</td>\n",
              "      <td>4</td>\n",
              "      <td>NaN</td>\n",
              "      <td>auto racing</td>\n",
              "      <td>1970-01-01 00:00:00.000001990</td>\n",
              "      <td>10.0</td>\n",
              "    </tr>\n",
              "    <tr>\n",
              "      <th>4</th>\n",
              "      <td>5</td>\n",
              "      <td>Alain Prost</td>\n",
              "      <td>France</td>\n",
              "      <td>5</td>\n",
              "      <td>NaN</td>\n",
              "      <td>auto racing</td>\n",
              "      <td>1970-01-01 00:00:00.000001990</td>\n",
              "      <td>9.0</td>\n",
              "    </tr>\n",
              "  </tbody>\n",
              "</table>\n",
              "</div>"
            ],
            "text/plain": [
              "   S.NO               Name  ...                          Year  earnings ($ million)\n",
              "0     1         Mike Tyson  ... 1970-01-01 00:00:00.000001990                  28.6\n",
              "1     2     Buster Douglas  ... 1970-01-01 00:00:00.000001990                  26.0\n",
              "2     3  Sugar Ray Leonard  ... 1970-01-01 00:00:00.000001990                  13.0\n",
              "3     4       Ayrton Senna  ... 1970-01-01 00:00:00.000001990                  10.0\n",
              "4     5        Alain Prost  ... 1970-01-01 00:00:00.000001990                   9.0\n",
              "\n",
              "[5 rows x 8 columns]"
            ]
          },
          "metadata": {},
          "execution_count": 15
        }
      ]
    },
    {
      "cell_type": "code",
      "metadata": {
        "colab": {
          "base_uri": "https://localhost:8080/",
          "height": 238
        },
        "id": "vj-7CcT5H4zR",
        "outputId": "5719bcb5-f4d5-4ae1-b1af-b61b39db1677"
      },
      "source": [
        "data['year'] = pd.DatetimeIndex(data['Year']).year\n",
        "data.set_index('year', inplace=True)\n",
        "data.drop('Year',axis=1,inplace=True)\n",
        "\n",
        "data.head()"
      ],
      "execution_count": null,
      "outputs": [
        {
          "output_type": "execute_result",
          "data": {
            "text/html": [
              "<div>\n",
              "<style scoped>\n",
              "    .dataframe tbody tr th:only-of-type {\n",
              "        vertical-align: middle;\n",
              "    }\n",
              "\n",
              "    .dataframe tbody tr th {\n",
              "        vertical-align: top;\n",
              "    }\n",
              "\n",
              "    .dataframe thead th {\n",
              "        text-align: right;\n",
              "    }\n",
              "</style>\n",
              "<table border=\"1\" class=\"dataframe\">\n",
              "  <thead>\n",
              "    <tr style=\"text-align: right;\">\n",
              "      <th></th>\n",
              "      <th>S.NO</th>\n",
              "      <th>Name</th>\n",
              "      <th>Nationality</th>\n",
              "      <th>Current Rank</th>\n",
              "      <th>Previous Year Rank</th>\n",
              "      <th>Sport</th>\n",
              "      <th>earnings ($ million)</th>\n",
              "    </tr>\n",
              "    <tr>\n",
              "      <th>year</th>\n",
              "      <th></th>\n",
              "      <th></th>\n",
              "      <th></th>\n",
              "      <th></th>\n",
              "      <th></th>\n",
              "      <th></th>\n",
              "      <th></th>\n",
              "    </tr>\n",
              "  </thead>\n",
              "  <tbody>\n",
              "    <tr>\n",
              "      <th>1970</th>\n",
              "      <td>1</td>\n",
              "      <td>Mike Tyson</td>\n",
              "      <td>USA</td>\n",
              "      <td>1</td>\n",
              "      <td>NaN</td>\n",
              "      <td>boxing</td>\n",
              "      <td>28.6</td>\n",
              "    </tr>\n",
              "    <tr>\n",
              "      <th>1970</th>\n",
              "      <td>2</td>\n",
              "      <td>Buster Douglas</td>\n",
              "      <td>USA</td>\n",
              "      <td>2</td>\n",
              "      <td>NaN</td>\n",
              "      <td>boxing</td>\n",
              "      <td>26.0</td>\n",
              "    </tr>\n",
              "    <tr>\n",
              "      <th>1970</th>\n",
              "      <td>3</td>\n",
              "      <td>Sugar Ray Leonard</td>\n",
              "      <td>USA</td>\n",
              "      <td>3</td>\n",
              "      <td>NaN</td>\n",
              "      <td>boxing</td>\n",
              "      <td>13.0</td>\n",
              "    </tr>\n",
              "    <tr>\n",
              "      <th>1970</th>\n",
              "      <td>4</td>\n",
              "      <td>Ayrton Senna</td>\n",
              "      <td>Brazil</td>\n",
              "      <td>4</td>\n",
              "      <td>NaN</td>\n",
              "      <td>auto racing</td>\n",
              "      <td>10.0</td>\n",
              "    </tr>\n",
              "    <tr>\n",
              "      <th>1970</th>\n",
              "      <td>5</td>\n",
              "      <td>Alain Prost</td>\n",
              "      <td>France</td>\n",
              "      <td>5</td>\n",
              "      <td>NaN</td>\n",
              "      <td>auto racing</td>\n",
              "      <td>9.0</td>\n",
              "    </tr>\n",
              "  </tbody>\n",
              "</table>\n",
              "</div>"
            ],
            "text/plain": [
              "      S.NO               Name  ...        Sport  earnings ($ million)\n",
              "year                           ...                                   \n",
              "1970     1         Mike Tyson  ...       boxing                  28.6\n",
              "1970     2     Buster Douglas  ...       boxing                  26.0\n",
              "1970     3  Sugar Ray Leonard  ...       boxing                  13.0\n",
              "1970     4       Ayrton Senna  ...  auto racing                  10.0\n",
              "1970     5        Alain Prost  ...  auto racing                   9.0\n",
              "\n",
              "[5 rows x 7 columns]"
            ]
          },
          "metadata": {},
          "execution_count": 76
        }
      ]
    },
    {
      "cell_type": "code",
      "metadata": {
        "colab": {
          "base_uri": "https://localhost:8080/"
        },
        "id": "ozGjtGpkH4Zj",
        "outputId": "bdc695c4-3198-4579-da3a-e08788450847"
      },
      "source": [
        "yearlytopay = data[data['Current Rank'] == 1].sort_values(by='year',ascending=False)\n",
        "print(yearlytopay[['Name','Sport','Nationality','earnings ($ million)','Current Rank']])"
      ],
      "execution_count": null,
      "outputs": [
        {
          "output_type": "stream",
          "name": "stdout",
          "text": [
            "                    Name        Sport  ... earnings ($ million)  Current Rank\n",
            "year                                   ...                                   \n",
            "1970          Mike Tyson       boxing  ...                 28.6             1\n",
            "1970   Evander Holyfield       boxing  ...                 60.5             1\n",
            "1970        Lionel Messi       Soccer  ...                127.0             1\n",
            "1970    Floyd Mayweather       Boxing  ...                285.0             1\n",
            "1970   Cristiano Ronaldo       Soccer  ...                 93.0             1\n",
            "1970   Cristiano Ronaldo       Soccer  ...                 88.0             1\n",
            "1970    Floyd Mayweather       Boxing  ...                300.0             1\n",
            "1970    Floyd Mayweather       Boxing  ...                105.0             1\n",
            "1970         Tiger Woods         Golf  ...                 78.1             1\n",
            "1970    Floyd Mayweather       Boxing  ...                 85.0             1\n",
            "1970         Tiger Woods         golf  ...                 75.0             1\n",
            "1970         Tiger Woods         golf  ...                105.0             1\n",
            "1970         Tiger Woods         golf  ...                110.0             1\n",
            "1970         Tiger Woods         golf  ...                115.0             1\n",
            "1970         Tiger Woods         golf  ...                100.0             1\n",
            "1970         Tiger Woods         golf  ...                 90.0             1\n",
            "1970         Tiger Woods         golf  ...                 87.0             1\n",
            "1970         Tiger Woods         golf  ...                 80.3             1\n",
            "1970         Tiger Woods         Golf  ...                 78.0             1\n",
            "1970         Tiger Woods         Golf  ...                 69.0             1\n",
            "1970  Michael Schumacher  Auto Racing  ...                 59.0             1\n",
            "1970  Michael Schumacher  Auto Racing  ...                 49.0             1\n",
            "1970      Michael Jordan   Basketball  ...                 69.0             1\n",
            "1970      Michael Jordan   Basketball  ...                 78.3             1\n",
            "1970          Mike Tyson       Boxing  ...                 75.0             1\n",
            "1970      Michael Jordan   basketball  ...                 43.9             1\n",
            "1970      Michael Jordan   Basketball  ...                 30.0             1\n",
            "1970      Michael Jordan   Basketball  ...                 36.0             1\n",
            "1970      Michael Jordan   Basketball  ...                 35.9             1\n",
            "1970       Roger Federer       Tennis  ...                106.3             1\n",
            "\n",
            "[30 rows x 5 columns]\n"
          ]
        }
      ]
    },
    {
      "cell_type": "code",
      "metadata": {
        "colab": {
          "base_uri": "https://localhost:8080/",
          "height": 485
        },
        "id": "dgSF0i67FQtX",
        "outputId": "b3a306e8-d1af-4a2c-e8f0-8217987c25ca"
      },
      "source": [
        "toperyear = yearlytopay['Name'].value_counts().to_frame()\n",
        "sns.barplot(x=toperyear.index,y=toperyear['Name'])\n",
        "sns.set(rc={\"figure.figsize\":(20,8)})"
      ],
      "execution_count": null,
      "outputs": [
        {
          "output_type": "display_data",
          "data": {
            "image/png": "[encoded data removed]",
            "text/plain": [
              "<Figure size 1440x576 with 1 Axes>"
            ]
          },
          "metadata": {}
        }
      ]
    },
    {
      "cell_type": "code",
      "metadata": {
        "colab": {
          "base_uri": "https://localhost:8080/",
          "height": 270
        },
        "id": "DPZftf1WP6or",
        "outputId": "998b46bd-d9da-4dd7-e9fc-fbca6c048f7e"
      },
      "source": [
        "topernation = yearlytopay['Nationality'].value_counts().to_frame()\n",
        "sns.barplot(x=topernation.index,y=topernation ['Nationality'])\n",
        "sns.set(rc={\"figure.figsize\":(8,4)})"
      ],
      "execution_count": null,
      "outputs": [
        {
          "output_type": "display_data",
          "data": {
            "image/png": "[encoded data removed]",
            "text/plain": [
              "<Figure size 576x288 with 1 Axes>"
            ]
          },
          "metadata": {}
        }
      ]
    },
    {
      "cell_type": "code",
      "metadata": {
        "colab": {
          "base_uri": "https://localhost:8080/"
        },
        "id": "VU7lvYfQFPvZ",
        "outputId": "470a951c-f42f-43ff-b688-6b12c7a26840"
      },
      "source": [
        "data.columns"
      ],
      "execution_count": null,
      "outputs": [
        {
          "output_type": "execute_result",
          "data": {
            "text/plain": [
              "Index(['S.NO', 'Name', 'Nationality', 'Current Rank', 'Previous Year Rank',\n",
              "       'Sport', 'earnings ($ million)'],\n",
              "      dtype='object')"
            ]
          },
          "metadata": {},
          "execution_count": 54
        }
      ]
    },
    {
      "cell_type": "code",
      "metadata": {
        "id": "Nkqxu2EZPw_-"
      },
      "source": [
        "sns.boxplot(data['fg_wac'])"
      ],
      "execution_count": null,
      "outputs": []
    },
    {
      "cell_type": "code",
      "metadata": {
        "id": "SawGOapb-Zb4"
      },
      "source": [
        "data['carriergroup'].sort_values(ascending=False)"
      ],
      "execution_count": null,
      "outputs": []
    }
  ]
}